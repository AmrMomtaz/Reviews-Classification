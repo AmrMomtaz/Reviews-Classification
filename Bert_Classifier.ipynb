{
  "cells": [
    {
      "cell_type": "markdown",
      "metadata": {
        "id": "view-in-github",
        "colab_type": "text"
      },
      "source": [
        "<a href=\"https://colab.research.google.com/github/AmrMomtaz/Reviews-Classification/blob/main/Bert_Classifier.ipynb\" target=\"_parent\"><img src=\"https://colab.research.google.com/assets/colab-badge.svg\" alt=\"Open In Colab\"/></a>"
      ]
    },
    {
      "cell_type": "markdown",
      "metadata": {
        "id": "eEnKvtPajI_r"
      },
      "source": [
        "# **Movies reviews classification using BERT**"
      ]
    },
    {
      "cell_type": "markdown",
      "metadata": {
        "id": "k_j45zirjvL7"
      },
      "source": [
        "## Problem Statement"
      ]
    },
    {
      "cell_type": "markdown",
      "metadata": {
        "id": "BQ9_5bBH1wsq"
      },
      "source": [
        "IMDB is the most globally famous movie reviews website where you can publish a review for\n",
        "any film you watched. Classifying the positive reviews and the negative ones can be useful for\n",
        "several purposes such as giving an overall rating for the film or making statistical analysis about\n",
        "the preferences of people from different countries, age levels, etc... So IMDB dataset is released\n",
        "which composed of 50k reviews labeled as positive or negative to enable training movie reviews\n",
        "classifiers. Moreover, NLP tasks are currently solved based on pretrained language models such\n",
        "as BERT. These models provide a deep understanding of both semantic and contextual aspects\n",
        "of language words, sentences or even large paragraphs due to their training on huge corpus for\n",
        "very long time. In this notebook We will download the IMDB dataset from kaggle using this <a href = \"https://www.kaggle.com/lakshmi25npathi/imdb-dataset-of-50k-movie-reviews\">\n",
        "Link</a>. Then, we will train BERT based classifier for movie reviews.\n"
      ]
    },
    {
      "cell_type": "markdown",
      "source": [
        "I'm going to use split the data 70% training and 10% dev and 20% for testing.\n",
        "We will use BERT pretrained weights first and we will and we will use early stopping using 3 steps"
      ],
      "metadata": {
        "id": "Yr6JKicPUXFH"
      }
    },
    {
      "cell_type": "markdown",
      "metadata": {
        "id": "X9mccWalCjQY"
      },
      "source": [
        "## Installation\n",
        "\n",
        "In this section we are going to get the problem data and install required libraries.\n",
        "First you have to **upload** the kaggle API token to the current running sesion then run the following cells."
      ]
    },
    {
      "cell_type": "code",
      "execution_count": null,
      "metadata": {
        "colab": {
          "base_uri": "https://localhost:8080/"
        },
        "id": "-4CcD9V9pKqW",
        "outputId": "64150796-9b5a-4957-d0a1-794db254bc2a"
      },
      "outputs": [
        {
          "output_type": "stream",
          "name": "stdout",
          "text": [
            "Warning: Your Kaggle API key is readable by other users on this system! To fix this, you can run 'chmod 600 /root/.kaggle/kaggle.json'\n",
            "Downloading imdb-dataset-of-50k-movie-reviews.zip to /content\n",
            " 39% 10.0M/25.7M [00:00<00:00, 104MB/s]\n",
            "100% 25.7M/25.7M [00:00<00:00, 126MB/s]\n",
            "Archive:  /content/imdb-dataset-of-50k-movie-reviews.zip\n",
            "  inflating: IMDB Dataset.csv        \n",
            "Collecting transformers\n",
            "  Downloading transformers-4.16.2-py3-none-any.whl (3.5 MB)\n",
            "\u001b[K     |████████████████████████████████| 3.5 MB 5.8 MB/s \n",
            "\u001b[?25hCollecting tokenizers!=0.11.3,>=0.10.1\n",
            "  Downloading tokenizers-0.11.4-cp37-cp37m-manylinux_2_12_x86_64.manylinux2010_x86_64.whl (6.8 MB)\n",
            "\u001b[K     |████████████████████████████████| 6.8 MB 19.3 MB/s \n",
            "\u001b[?25hRequirement already satisfied: numpy>=1.17 in /usr/local/lib/python3.7/dist-packages (from transformers) (1.19.5)\n",
            "Requirement already satisfied: importlib-metadata in /usr/local/lib/python3.7/dist-packages (from transformers) (4.10.1)\n",
            "Requirement already satisfied: tqdm>=4.27 in /usr/local/lib/python3.7/dist-packages (from transformers) (4.62.3)\n",
            "Collecting pyyaml>=5.1\n",
            "  Downloading PyYAML-6.0-cp37-cp37m-manylinux_2_5_x86_64.manylinux1_x86_64.manylinux_2_12_x86_64.manylinux2010_x86_64.whl (596 kB)\n",
            "\u001b[K     |████████████████████████████████| 596 kB 36.9 MB/s \n",
            "\u001b[?25hRequirement already satisfied: regex!=2019.12.17 in /usr/local/lib/python3.7/dist-packages (from transformers) (2019.12.20)\n",
            "Requirement already satisfied: requests in /usr/local/lib/python3.7/dist-packages (from transformers) (2.23.0)\n",
            "Requirement already satisfied: packaging>=20.0 in /usr/local/lib/python3.7/dist-packages (from transformers) (21.3)\n",
            "Collecting sacremoses\n",
            "  Downloading sacremoses-0.0.47-py2.py3-none-any.whl (895 kB)\n",
            "\u001b[K     |████████████████████████████████| 895 kB 43.5 MB/s \n",
            "\u001b[?25hRequirement already satisfied: filelock in /usr/local/lib/python3.7/dist-packages (from transformers) (3.4.2)\n",
            "Collecting huggingface-hub<1.0,>=0.1.0\n",
            "  Downloading huggingface_hub-0.4.0-py3-none-any.whl (67 kB)\n",
            "\u001b[K     |████████████████████████████████| 67 kB 2.4 MB/s \n",
            "\u001b[?25hRequirement already satisfied: typing-extensions>=3.7.4.3 in /usr/local/lib/python3.7/dist-packages (from huggingface-hub<1.0,>=0.1.0->transformers) (3.10.0.2)\n",
            "Requirement already satisfied: pyparsing!=3.0.5,>=2.0.2 in /usr/local/lib/python3.7/dist-packages (from packaging>=20.0->transformers) (3.0.7)\n",
            "Requirement already satisfied: zipp>=0.5 in /usr/local/lib/python3.7/dist-packages (from importlib-metadata->transformers) (3.7.0)\n",
            "Requirement already satisfied: urllib3!=1.25.0,!=1.25.1,<1.26,>=1.21.1 in /usr/local/lib/python3.7/dist-packages (from requests->transformers) (1.24.3)\n",
            "Requirement already satisfied: idna<3,>=2.5 in /usr/local/lib/python3.7/dist-packages (from requests->transformers) (2.10)\n",
            "Requirement already satisfied: chardet<4,>=3.0.2 in /usr/local/lib/python3.7/dist-packages (from requests->transformers) (3.0.4)\n",
            "Requirement already satisfied: certifi>=2017.4.17 in /usr/local/lib/python3.7/dist-packages (from requests->transformers) (2021.10.8)\n",
            "Requirement already satisfied: six in /usr/local/lib/python3.7/dist-packages (from sacremoses->transformers) (1.15.0)\n",
            "Requirement already satisfied: click in /usr/local/lib/python3.7/dist-packages (from sacremoses->transformers) (7.1.2)\n",
            "Requirement already satisfied: joblib in /usr/local/lib/python3.7/dist-packages (from sacremoses->transformers) (1.1.0)\n",
            "Installing collected packages: pyyaml, tokenizers, sacremoses, huggingface-hub, transformers\n",
            "  Attempting uninstall: pyyaml\n",
            "    Found existing installation: PyYAML 3.13\n",
            "    Uninstalling PyYAML-3.13:\n",
            "      Successfully uninstalled PyYAML-3.13\n",
            "Successfully installed huggingface-hub-0.4.0 pyyaml-6.0 sacremoses-0.0.47 tokenizers-0.11.4 transformers-4.16.2\n",
            "[nltk_data] Downloading package stopwords to /root/nltk_data...\n",
            "[nltk_data]   Unzipping corpora/stopwords.zip.\n",
            "[nltk_data] Downloading package wordnet to /root/nltk_data...\n",
            "[nltk_data]   Unzipping corpora/wordnet.zip.\n"
          ]
        }
      ],
      "source": [
        "# Cloning Data \n",
        "! mkdir ~/.kaggle\n",
        "! cp kaggle.json ~/.kaggle/\n",
        "! kaggle datasets download -d lakshmi25npathi/imdb-dataset-of-50k-movie-reviews\n",
        "! unzip /content/imdb-dataset-of-50k-movie-reviews.zip\n",
        "! rm /content/imdb-dataset-of-50k-movie-reviews.zip\n",
        "! pip install transformers\n",
        "\n",
        "# Importing libraries\n",
        "# For EDA and data cleaning\n",
        "import numpy as np\n",
        "import pandas as pd\n",
        "import matplotlib.pyplot as plt\n",
        "import seaborn as sb\n",
        "# For preprocessing the data\n",
        "import nltk\n",
        "nltk.download('stopwords')\n",
        "nltk.download('wordnet')\n",
        "from nltk.corpus import stopwords\n",
        "from nltk.stem import WordNetLemmatizer\n",
        "import re\n",
        "# For creating the dataset and the bert model\n",
        "import torch\n",
        "from torch import nn\n",
        "from transformers import BertTokenizer\n",
        "from transformers import BertModel\n",
        "from torch.optim import Adam\n",
        "from tqdm import tqdm"
      ]
    },
    {
      "cell_type": "markdown",
      "metadata": {
        "id": "KWhXsp7qELCZ"
      },
      "source": [
        "## EDA and cleaning the data\n",
        "In this section we are going to do some EDA for better insight of the data"
      ]
    },
    {
      "cell_type": "code",
      "execution_count": null,
      "metadata": {
        "colab": {
          "base_uri": "https://localhost:8080/",
          "height": 352
        },
        "id": "3Iz49mohExkL",
        "outputId": "f3e29f38-0a7d-4408-bd12-1b2a75641006"
      },
      "outputs": [
        {
          "output_type": "stream",
          "name": "stdout",
          "text": [
            "Data frame shape = (50000, 2)\n",
            "Dataframe description: \n",
            "                                                   review sentiment\n",
            "count                                               50000     50000\n",
            "unique                                              49582         2\n",
            "top     Loved today's show!!! It was a variety and not...  positive\n",
            "freq                                                    5     25000\n",
            "Dataframe duplicated rows: 418\n"
          ]
        },
        {
          "output_type": "execute_result",
          "data": {
            "text/html": [
              "\n",
              "  <div id=\"df-7cbcf383-f775-43fb-b90e-6900f3a92317\">\n",
              "    <div class=\"colab-df-container\">\n",
              "      <div>\n",
              "<style scoped>\n",
              "    .dataframe tbody tr th:only-of-type {\n",
              "        vertical-align: middle;\n",
              "    }\n",
              "\n",
              "    .dataframe tbody tr th {\n",
              "        vertical-align: top;\n",
              "    }\n",
              "\n",
              "    .dataframe thead th {\n",
              "        text-align: right;\n",
              "    }\n",
              "</style>\n",
              "<table border=\"1\" class=\"dataframe\">\n",
              "  <thead>\n",
              "    <tr style=\"text-align: right;\">\n",
              "      <th></th>\n",
              "      <th>review</th>\n",
              "      <th>sentiment</th>\n",
              "    </tr>\n",
              "  </thead>\n",
              "  <tbody>\n",
              "    <tr>\n",
              "      <th>0</th>\n",
              "      <td>One of the other reviewers has mentioned that ...</td>\n",
              "      <td>positive</td>\n",
              "    </tr>\n",
              "    <tr>\n",
              "      <th>1</th>\n",
              "      <td>A wonderful little production. &lt;br /&gt;&lt;br /&gt;The...</td>\n",
              "      <td>positive</td>\n",
              "    </tr>\n",
              "    <tr>\n",
              "      <th>2</th>\n",
              "      <td>I thought this was a wonderful way to spend ti...</td>\n",
              "      <td>positive</td>\n",
              "    </tr>\n",
              "    <tr>\n",
              "      <th>3</th>\n",
              "      <td>Basically there's a family where a little boy ...</td>\n",
              "      <td>negative</td>\n",
              "    </tr>\n",
              "    <tr>\n",
              "      <th>4</th>\n",
              "      <td>Petter Mattei's \"Love in the Time of Money\" is...</td>\n",
              "      <td>positive</td>\n",
              "    </tr>\n",
              "  </tbody>\n",
              "</table>\n",
              "</div>\n",
              "      <button class=\"colab-df-convert\" onclick=\"convertToInteractive('df-7cbcf383-f775-43fb-b90e-6900f3a92317')\"\n",
              "              title=\"Convert this dataframe to an interactive table.\"\n",
              "              style=\"display:none;\">\n",
              "        \n",
              "  <svg xmlns=\"http://www.w3.org/2000/svg\" height=\"24px\"viewBox=\"0 0 24 24\"\n",
              "       width=\"24px\">\n",
              "    <path d=\"M0 0h24v24H0V0z\" fill=\"none\"/>\n",
              "    <path d=\"M18.56 5.44l.94 2.06.94-2.06 2.06-.94-2.06-.94-.94-2.06-.94 2.06-2.06.94zm-11 1L8.5 8.5l.94-2.06 2.06-.94-2.06-.94L8.5 2.5l-.94 2.06-2.06.94zm10 10l.94 2.06.94-2.06 2.06-.94-2.06-.94-.94-2.06-.94 2.06-2.06.94z\"/><path d=\"M17.41 7.96l-1.37-1.37c-.4-.4-.92-.59-1.43-.59-.52 0-1.04.2-1.43.59L10.3 9.45l-7.72 7.72c-.78.78-.78 2.05 0 2.83L4 21.41c.39.39.9.59 1.41.59.51 0 1.02-.2 1.41-.59l7.78-7.78 2.81-2.81c.8-.78.8-2.07 0-2.86zM5.41 20L4 18.59l7.72-7.72 1.47 1.35L5.41 20z\"/>\n",
              "  </svg>\n",
              "      </button>\n",
              "      \n",
              "  <style>\n",
              "    .colab-df-container {\n",
              "      display:flex;\n",
              "      flex-wrap:wrap;\n",
              "      gap: 12px;\n",
              "    }\n",
              "\n",
              "    .colab-df-convert {\n",
              "      background-color: #E8F0FE;\n",
              "      border: none;\n",
              "      border-radius: 50%;\n",
              "      cursor: pointer;\n",
              "      display: none;\n",
              "      fill: #1967D2;\n",
              "      height: 32px;\n",
              "      padding: 0 0 0 0;\n",
              "      width: 32px;\n",
              "    }\n",
              "\n",
              "    .colab-df-convert:hover {\n",
              "      background-color: #E2EBFA;\n",
              "      box-shadow: 0px 1px 2px rgba(60, 64, 67, 0.3), 0px 1px 3px 1px rgba(60, 64, 67, 0.15);\n",
              "      fill: #174EA6;\n",
              "    }\n",
              "\n",
              "    [theme=dark] .colab-df-convert {\n",
              "      background-color: #3B4455;\n",
              "      fill: #D2E3FC;\n",
              "    }\n",
              "\n",
              "    [theme=dark] .colab-df-convert:hover {\n",
              "      background-color: #434B5C;\n",
              "      box-shadow: 0px 1px 3px 1px rgba(0, 0, 0, 0.15);\n",
              "      filter: drop-shadow(0px 1px 2px rgba(0, 0, 0, 0.3));\n",
              "      fill: #FFFFFF;\n",
              "    }\n",
              "  </style>\n",
              "\n",
              "      <script>\n",
              "        const buttonEl =\n",
              "          document.querySelector('#df-7cbcf383-f775-43fb-b90e-6900f3a92317 button.colab-df-convert');\n",
              "        buttonEl.style.display =\n",
              "          google.colab.kernel.accessAllowed ? 'block' : 'none';\n",
              "\n",
              "        async function convertToInteractive(key) {\n",
              "          const element = document.querySelector('#df-7cbcf383-f775-43fb-b90e-6900f3a92317');\n",
              "          const dataTable =\n",
              "            await google.colab.kernel.invokeFunction('convertToInteractive',\n",
              "                                                     [key], {});\n",
              "          if (!dataTable) return;\n",
              "\n",
              "          const docLinkHtml = 'Like what you see? Visit the ' +\n",
              "            '<a target=\"_blank\" href=https://colab.research.google.com/notebooks/data_table.ipynb>data table notebook</a>'\n",
              "            + ' to learn more about interactive tables.';\n",
              "          element.innerHTML = '';\n",
              "          dataTable['output_type'] = 'display_data';\n",
              "          await google.colab.output.renderOutput(dataTable, element);\n",
              "          const docLink = document.createElement('div');\n",
              "          docLink.innerHTML = docLinkHtml;\n",
              "          element.appendChild(docLink);\n",
              "        }\n",
              "      </script>\n",
              "    </div>\n",
              "  </div>\n",
              "  "
            ],
            "text/plain": [
              "                                              review sentiment\n",
              "0  One of the other reviewers has mentioned that ...  positive\n",
              "1  A wonderful little production. <br /><br />The...  positive\n",
              "2  I thought this was a wonderful way to spend ti...  positive\n",
              "3  Basically there's a family where a little boy ...  negative\n",
              "4  Petter Mattei's \"Love in the Time of Money\" is...  positive"
            ]
          },
          "metadata": {},
          "execution_count": 2
        }
      ],
      "source": [
        "# Creating dataframe and changing the lables to categorical\n",
        "df = pd.read_csv('IMDB Dataset.csv')\n",
        "print(f\"Data frame shape = {df.shape}\")\n",
        "print(f\"Dataframe description: \\n{df.describe()}\")\n",
        "print(f\"Dataframe duplicated rows: {sum(df.duplicated())}\")\n",
        "df.head()"
      ]
    },
    {
      "cell_type": "markdown",
      "source": [
        "We will drop the duplicated rows and we will see the number of positive and negative examples to see if under-sampling or over-sampling is required and we will change the categorical column (\"sentiment\") to zeros and ones and change its name to label"
      ],
      "metadata": {
        "id": "BcSY7i8J7spz"
      }
    },
    {
      "cell_type": "code",
      "execution_count": null,
      "metadata": {
        "colab": {
          "base_uri": "https://localhost:8080/",
          "height": 279
        },
        "id": "F94WY2iCIIkl",
        "outputId": "aa6c5154-2842-404c-d5ad-a00ff3a6f8cb"
      },
      "outputs": [
        {
          "output_type": "display_data",
          "data": {
            "image/png": "[encoded data removed]",
            "text/plain": [
              "<Figure size 432x288 with 1 Axes>"
            ]
          },
          "metadata": {
            "needs_background": "light"
          }
        }
      ],
      "source": [
        "# Droping the duplicated rows\n",
        "df.drop_duplicates(inplace = True)\n",
        "# Plotting the sentiment column\n",
        "sb.countplot(x='sentiment', data=df)\n",
        "# Modifying the sentiment column\n",
        "df[\"sentiment\"] = df[\"sentiment\"].astype('category')\n",
        "df[\"label\"] = df[\"sentiment\"].cat.codes\n",
        "df = df.drop(columns=['sentiment'])"
      ]
    },
    {
      "cell_type": "markdown",
      "source": [
        "As we can see there is no need for under sampling or over sampling since the the data is balanced for both classes"
      ],
      "metadata": {
        "id": "bmoN2PhWRwLv"
      }
    },
    {
      "cell_type": "markdown",
      "metadata": {
        "id": "VT-UIuZOcLNC"
      },
      "source": [
        "## Data Pre-processing and splitting\n",
        "\n",
        "Run the following cell to pre-process the data. In the data pre-processing there are four things to be done:\n",
        "* Remove punctuations\n",
        "* Remove stop words\n",
        "* Lower case all words\n",
        "* Lemmatization of words"
      ]
    },
    {
      "cell_type": "code",
      "execution_count": null,
      "metadata": {
        "id": "iVTLeCWqFT7X"
      },
      "outputs": [],
      "source": [
        "# Lowercase all characters\n",
        "df[\"review\"] = df.review.apply(lambda x : str.lower(x))\n",
        "\n",
        "# Removing punctiations and <br />\n",
        "df[\"review\"] = df.review.apply(lambda x : \" \".join(re.findall('[\\w]+',x)))\n",
        "df[\"review\"] = df.review.apply(lambda x : x.replace('br', ''))\n",
        "\n",
        "# Removing stop words\n",
        "stop_words = set(stopwords.words('english'))\n",
        "df[\"review\"] = df.review.apply(\n",
        "    lambda x : ' '.join(word for word in x.split() if word not in stop_words))\n",
        "df[\"review\"] = df.review.apply(lambda x : x.replace('   ', ' '))\n",
        "\n",
        "# Lemmatization\n",
        "w_tokenizer = nltk.tokenize.WhitespaceTokenizer()\n",
        "lemmatizer = nltk.stem.WordNetLemmatizer()\n",
        "def lemmatize_text(text):\n",
        "    return [lemmatizer.lemmatize(w) for w in w_tokenizer.tokenize(text)]\n",
        "\n",
        "df[\"review\"] = df.review.apply(lambda x : lemmatize_text(x))\n",
        "df.head()"
      ]
    },
    {
      "cell_type": "markdown",
      "source": [
        "Now we will dplit the data to 70% train ,10% dev and 20% test and we will stratify and resample it to be randomly ordered"
      ],
      "metadata": {
        "id": "jpc6OmplTzCP"
      }
    },
    {
      "cell_type": "code",
      "execution_count": null,
      "metadata": {
        "id": "evP_qi9vY87M"
      },
      "outputs": [],
      "source": [
        "# Stratify and split\n",
        "train_list = []\n",
        "test_list = []\n",
        "val_list = []\n",
        "grouped_df = df.groupby('labels')\n",
        "\n",
        "for i, g in grouped_df:\n",
        "    train, val, test = np.split(g, [int(.7 * len(g)), int(.8 * len(g))])\n",
        "    train_list.append(train); test_list.append(test); val_list.append(val)\n",
        "\n",
        "df_train = pd.concat(train_list)\n",
        "df_val = pd.concat(val_list)\n",
        "df_test = pd.concat(test_list)\n",
        "# Resampling\n",
        "df_train = df_train.sample(frac = 1)\n",
        "df_val = df_val.sample(frac = 1)\n",
        "df_test = df_test.sample(frac = 1)"
      ]
    },
    {
      "cell_type": "markdown",
      "metadata": {
        "id": "t7tykwVHuu_6"
      },
      "source": [
        "## Building Dataset and Model"
      ]
    },
    {
      "cell_type": "code",
      "execution_count": null,
      "metadata": {
        "id": "aYzPXoDdurja"
      },
      "outputs": [],
      "source": [
        "tokenizer = BertTokenizer.from_pretrained('bert-base-cased')\n",
        "class Dataset(torch.utils.data.Dataset):\n",
        "\n",
        "    def __init__(self, df):\n",
        "\n",
        "        self.labels = list(df.labels)\n",
        "        self.texts = list(df.review.apply(lambda x :tokenizer(x, \n",
        "                               padding='max_length', max_length = 512, truncation=True,\n",
        "                                return_tensors=\"pt\")))\n",
        "\n",
        "    def classes(self):\n",
        "        return self.labels\n",
        "\n",
        "    def __len__(self):\n",
        "        return len(self.labels)\n",
        "\n",
        "    def get_batch_labels(self, idx):\n",
        "        # Fetch a batch of labels\n",
        "        return np.array(self.labels[idx])\n",
        "\n",
        "    def get_batch_texts(self, idx):\n",
        "        # Fetch a batch of inputs\n",
        "        return self.texts[idx]\n",
        "\n",
        "    def __getitem__(self, idx):\n",
        "\n",
        "        batch_texts = self.get_batch_texts(idx)\n",
        "        batch_y = self.get_batch_labels(idx)\n",
        "\n",
        "        return batch_texts, batch_y"
      ]
    },
    {
      "cell_type": "code",
      "execution_count": null,
      "metadata": {
        "id": "jpgdUls4xpgS"
      },
      "outputs": [],
      "source": [
        "class BertClassifier(nn.Module):\n",
        "\n",
        "    def __init__(self):\n",
        "\n",
        "        super(BertClassifier, self).__init__()\n",
        "\n",
        "        self.bert = BertModel.from_pretrained('bert-base-cased')\n",
        "        self.dropout_bert = nn.Dropout(0.5)\n",
        "        self.dropout = nn.Dropout(0.2)\n",
        "        self.linear1 = nn.Linear(768, 512)\n",
        "        self.batchnorm1 = nn.BatchNorm1d(512)\n",
        "        self.linear2 = nn.Linear(512, 256)\n",
        "        self.batchnorm2 = nn.BatchNorm1d(256)\n",
        "        self.linear3 = nn.Linear(256, 128)\n",
        "        self.linear4 = nn.Linear(128, 64)\n",
        "        self.linear_out = nn.Linear(64, 1)\n",
        "        self.relu1 = nn.ReLU()\n",
        "        self.relu2 = nn.ReLU()\n",
        "        self.relu3 = nn.ReLU()\n",
        "        self.relu4 = nn.ReLU()\n",
        "        self.sigmoid = nn.Sigmoid()\n",
        "\n",
        "    def forward(self, input_id, mask):\n",
        "\n",
        "        _, x = self.bert(input_ids=input_id, attention_mask=mask,return_dict=False)\n",
        "        x = self.dropout_bert(x)\n",
        "        x = self.relu1(self.linear1(x))\n",
        "        x = self.batchnorm1(x)\n",
        "        x = self.relu2(self.linear2(x))\n",
        "        x = self.batchnorm2(x)\n",
        "        x = self.relu3(self.linear3(x))\n",
        "        x = self.dropout(x)\n",
        "        x = self.relu4(self.linear4(x))\n",
        "        x = self.dropout(x)\n",
        "        x = self.sigmoid(self.linear_out(x))\n",
        "        return x"
      ]
    },
    {
      "cell_type": "markdown",
      "source": [
        "## Training and testing the model"
      ],
      "metadata": {
        "id": "FGy_tiDOXAxv"
      }
    },
    {
      "cell_type": "code",
      "execution_count": null,
      "metadata": {
        "colab": {
          "base_uri": "https://localhost:8080/"
        },
        "id": "KKxRlxXxt_fi",
        "outputId": "8fe0e0e2-e297-4d04-f197-02df5bbcd431"
      },
      "outputs": [
        {
          "output_type": "stream",
          "name": "stderr",
          "text": [
            "Some weights of the model checkpoint at bert-base-cased were not used when initializing BertModel: ['cls.predictions.decoder.weight', 'cls.predictions.transform.dense.bias', 'cls.seq_relationship.weight', 'cls.predictions.bias', 'cls.predictions.transform.dense.weight', 'cls.predictions.transform.LayerNorm.bias', 'cls.seq_relationship.bias', 'cls.predictions.transform.LayerNorm.weight']\n",
            "- This IS expected if you are initializing BertModel from the checkpoint of a model trained on another task or with another architecture (e.g. initializing a BertForSequenceClassification model from a BertForPreTraining model).\n",
            "- This IS NOT expected if you are initializing BertModel from the checkpoint of a model that you expect to be exactly identical (initializing a BertForSequenceClassification model from a BertForSequenceClassification model).\n",
            "100%|██████████| 32/32 [00:38<00:00,  1.20s/it]\n"
          ]
        },
        {
          "output_type": "stream",
          "name": "stdout",
          "text": [
            "Epochs: 1 | Train Loss:  0.021                 | Train Accuracy:  0.818                 | Val Loss:  0.322                 | Val Accuracy:  0.840\n"
          ]
        },
        {
          "output_type": "stream",
          "name": "stderr",
          "text": [
            "100%|██████████| 32/32 [00:38<00:00,  1.20s/it]\n"
          ]
        },
        {
          "output_type": "stream",
          "name": "stdout",
          "text": [
            "Epochs: 2 | Train Loss:  0.020                 | Train Accuracy:  0.846                 | Val Loss:  0.317                 | Val Accuracy:  0.865\n"
          ]
        },
        {
          "output_type": "stream",
          "name": "stderr",
          "text": [
            "100%|██████████| 32/32 [00:38<00:00,  1.20s/it]\n"
          ]
        },
        {
          "output_type": "stream",
          "name": "stdout",
          "text": [
            "Epochs: 3 | Train Loss:  0.020                 | Train Accuracy:  0.905                 | Val Loss:  0.309                 | Val Accuracy:  0.935\n"
          ]
        },
        {
          "output_type": "stream",
          "name": "stderr",
          "text": [
            "100%|██████████| 32/32 [00:38<00:00,  1.20s/it]\n"
          ]
        },
        {
          "output_type": "stream",
          "name": "stdout",
          "text": [
            "Epochs: 4 | Train Loss:  0.019                 | Train Accuracy:  0.925                 | Val Loss:  0.306                 | Val Accuracy:  0.935\n"
          ]
        },
        {
          "output_type": "stream",
          "name": "stderr",
          "text": [
            "100%|██████████| 32/32 [00:38<00:00,  1.20s/it]\n"
          ]
        },
        {
          "output_type": "stream",
          "name": "stdout",
          "text": [
            "Epochs: 5 | Train Loss:  0.019                 | Train Accuracy:  0.965                 | Val Loss:  0.298                 | Val Accuracy:  0.955\n"
          ]
        }
      ],
      "source": [
        "train_loss = list()\n",
        "val_loss = list()\n",
        "train_accuracy = list()\n",
        "val_accuracy = list()\n",
        "\n",
        "def train(model, train_data, val_data, learning_rate, epochs):\n",
        "\n",
        "    train, val = Dataset(train_data), Dataset(val_data)\n",
        "\n",
        "    train_dataloader = torch.utils.data.DataLoader(train, batch_size=64, shuffle=True)\n",
        "    val_dataloader = torch.utils.data.DataLoader(val, batch_size=2)\n",
        "\n",
        "    use_cuda = torch.cuda.is_available()\n",
        "    device = torch.device(\"cuda\" if use_cuda else \"cpu\")\n",
        "\n",
        "    criterion = nn.BCELoss()\n",
        "    optimizer = Adam(model.parameters(), lr= learning_rate, weight_decay=1e-5)\n",
        "\n",
        "    if use_cuda:\n",
        "\n",
        "            model = model.cuda()\n",
        "            criterion = criterion.cuda()\n",
        "\n",
        "    for epoch_num in range(epochs):\n",
        "\n",
        "            total_acc_train = 0\n",
        "            total_loss_train = 0\n",
        "\n",
        "            for train_input, train_label in tqdm(train_dataloader):\n",
        "\n",
        "                train_label = train_label.to(device)\n",
        "                mask = train_input['attention_mask'].to(device)\n",
        "                input_id = train_input['input_ids'].squeeze(1).to(device)\n",
        "                output = model(input_id, mask)\n",
        "\n",
        "                batch_loss = criterion(output.squeeze(1), train_label.float())\n",
        "                total_loss_train += batch_loss.item()\n",
        "\n",
        "                y_pred_tag = torch.round(output.squeeze(1))\n",
        "                acc = (y_pred_tag == train_label).sum()\n",
        "\n",
        "                total_acc_train += acc\n",
        "\n",
        "                model.zero_grad()\n",
        "                batch_loss.backward()\n",
        "                optimizer.step()\n",
        "            \n",
        "            total_acc_val = 0\n",
        "            total_loss_val = 0\n",
        "\n",
        "            with torch.no_grad():\n",
        "\n",
        "                for val_input, val_label in val_dataloader:\n",
        "\n",
        "                    val_label = val_label.to(device)\n",
        "                    mask = val_input['attention_mask'].to(device)\n",
        "                    input_id = val_input['input_ids'].squeeze(1).to(device)\n",
        "\n",
        "                    output = model(input_id, mask)\n",
        "\n",
        "                    batch_loss = criterion(output.squeeze(1), val_label.float())\n",
        "                    total_loss_val += batch_loss.item()\n",
        "                    \n",
        "                    y_pred_tag = torch.round(output.squeeze(1))\n",
        "                    acc = (y_pred_tag == val_label).sum()\n",
        "                    total_acc_val += acc\n",
        "            \n",
        "            train_loss.append(total_loss_train / len(train_data))\n",
        "            train_accuracy.append(total_acc_train / len(train_data))\n",
        "            val_loss.append(total_loss_val / len(val_data))\n",
        "            val_accuracy.append(total_acc_val / len(val_data))\n",
        "\n",
        "            print(\n",
        "                f'Epochs: {epoch_num + 1} | Train Loss: {total_loss_train / len(train_data): .3f} \\\n",
        "                | Train Accuracy: {total_acc_train / len(train_data): .3f} \\\n",
        "                | Val Loss: {total_loss_val / len(val_data): .3f} \\\n",
        "                | Val Accuracy: {total_acc_val / len(val_data): .3f}')\n",
        "            \n",
        "            \n",
        "                  \n",
        "EPOCHS = 5\n",
        "model = BertClassifier()\n",
        "LR = 1e-5\n",
        "\n",
        "train(model, df_train, df_val, LR, EPOCHS)"
      ]
    },
    {
      "cell_type": "markdown",
      "source": [
        "Plotting the model train and validation loss and accuracy"
      ],
      "metadata": {
        "id": "Pp_11UZqXJ1H"
      }
    },
    {
      "cell_type": "code",
      "source": [
        "plt.figure(figsize = [18, 5])\n",
        "plt.suptitle(\"Loss and Accuracy in training\")\n",
        "\n",
        "plt.subplot(1,2,1)\n",
        "plt.plot(epoch_list,train_loss);\n",
        "plt.plot(epoch_list,val_loss);\n",
        "plt.xlabel(\"Epochs\")\n",
        "plt.ylabel(\"Loss\")\n",
        "plt.legend([\"Train\",\"Validation\"])\n",
        "plt.subplot(1,2,2)\n",
        "plt.plot(epoch_list,train_accuracy);\n",
        "plt.plot(epoch_list,val_accuracy);\n",
        "plt.xlabel(\"Epochs\");\n",
        "plt.ylabel(\"Accuracy\")\n",
        "plt.legend([\"Train\",\"Validation\"]);"
      ],
      "metadata": {
        "id": "jjnIydXw4wjr"
      },
      "execution_count": null,
      "outputs": []
    },
    {
      "cell_type": "markdown",
      "source": [
        "Testing the model"
      ],
      "metadata": {
        "id": "AvdZ84NoXRBu"
      }
    },
    {
      "cell_type": "code",
      "source": [
        "def evaluate(model, test_data):\n",
        "\n",
        "    test = Dataset(test_data)\n",
        "\n",
        "    test_dataloader = torch.utils.data.DataLoader(test, batch_size=32)\n",
        "\n",
        "    use_cuda = torch.cuda.is_available()\n",
        "    device = torch.device(\"cuda\" if use_cuda else \"cpu\")\n",
        "    final_confusion_matrix = np.zeros([2,2])\n",
        "\n",
        "    if use_cuda:\n",
        "\n",
        "        model = model.cuda()\n",
        "\n",
        "    total_acc_test = 0\n",
        "    \n",
        "    with torch.no_grad():\n",
        "\n",
        "        for test_input, test_label in test_dataloader:\n",
        "\n",
        "              test_label = test_label.to(device)\n",
        "              mask = test_input['attention_mask'].to(device)\n",
        "              input_id = test_input['input_ids'].squeeze(1).to(device)\n",
        "              output = model(input_id, mask)\n",
        "              y_pred_tag = torch.round(output.squeeze(1))\n",
        "              acc = (y_pred_tag == test_label).sum()\n",
        "              total_acc_test += acc\n",
        "              final_confusion_matrix += confusion_matrix(test_label.cpu().data.numpy(), y_pred_tag.cpu().data.numpy())\n",
        "    \n",
        "    TP = final_confusion_matrix[0][0]\n",
        "    FP = final_confusion_matrix[0][1]\n",
        "    FN = final_confusion_matrix[1][0]\n",
        "    TN = final_confusion_matrix[1][1]\n",
        "    Percision = TP/(TP+FP)\n",
        "    Recall = TP/(TP+FN)\n",
        "    print(f'Test Accuracy: {total_acc_test / len(test_data): .3f}')\n",
        "    print(f'Percision : {Percision}')\n",
        "    print(f'Sensitivity (Recall) : {Recall}')\n",
        "    print(f'Specifity : {TN/(TN+FP)}')\n",
        "    print(f'F1 Score = {((2*Percision*Recall)/(Percision+Recall))}')\n",
        "    print('Confusion Matrix :')\n",
        "    print(final_confusion_matrix)\n",
        "    \n",
        "evaluate(model, df_test)"
      ],
      "metadata": {
        "id": "3gW3sJXp40i2"
      },
      "execution_count": null,
      "outputs": []
    }
  ],
  "metadata": {
    "colab": {
      "collapsed_sections": [],
      "name": "Bert-Classifier.ipynb",
      "provenance": [],
      "include_colab_link": true
    },
    "kernelspec": {
      "display_name": "Python 3",
      "name": "python3"
    },
    "language_info": {
      "name": "python"
    }
  },
  "nbformat": 4,
  "nbformat_minor": 0
}